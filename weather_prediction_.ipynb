{
  "cells": [
    {
      "cell_type": "code",
      "source": [
        "import pandas as pd\n",
        "from sklearn.ensemble import RandomForestClassifier\n",
        "from sklearn.model_selection import train_test_split\n",
        "from sklearn.metrics import accuracy_score\n",
        "\n",
        "# Load the dataset\n",
        "data = pd.read_csv('/content/seattle-weather.csv')\n",
        "\n",
        "# Train the model\n",
        "# Split data into features and target variable\n",
        "X = data[['precipitation', 'temp_max', 'temp_min', 'wind']]\n",
        "y = data['weather']\n",
        "\n",
        "# Split data into training and testing sets\n",
        "X_train, X_test, y_train, y_test = train_test_split(X, y, test_size=0.2, random_state=42)\n",
        "\n",
        "# Model training (Random Forest Classifier)\n",
        "model = RandomForestClassifier(n_estimators=100, random_state=42)\n",
        "model.fit(X_train, y_train)\n",
        "\n",
        "# Model evaluation\n",
        "y_pred = model.predict(X_test)\n",
        "accuracy = accuracy_score(y_test, y_pred)\n",
        "print(\"Accuracy:\", accuracy)\n",
        "\n",
        "# Example prediction\n",
        "# Replace the values with the features of the new data\n",
        "new_data = pd.DataFrame({\n",
        "    'precipitation': [4.3],\n",
        "    'temp_max': [-10],\n",
        "    'temp_min': [-20.3],\n",
        "    'wind': [-3.2]\n",
        "})\n",
        "\n",
        "prediction = model.predict(new_data)\n",
        "print(\"Predicted weather:\", prediction[0])\n"
      ],
      "metadata": {
        "colab": {
          "base_uri": "https://localhost:8080/"
        },
        "id": "HAw0D2u2G_DK",
        "outputId": "90664ca9-c67e-4108-db66-5bbfe9244ec6"
      },
      "execution_count": null,
      "outputs": [
        {
          "output_type": "stream",
          "name": "stdout",
          "text": [
            "Accuracy: 0.8156996587030717\n",
            "Predicted weather: snow\n"
          ]
        }
      ]
    }
  ],
  "metadata": {
    "colab": {
      "provenance": []
    },
    "kernelspec": {
      "display_name": "Python 3",
      "name": "python3"
    },
    "language_info": {
      "name": "python"
    }
  },
  "nbformat": 4,
  "nbformat_minor": 0
}